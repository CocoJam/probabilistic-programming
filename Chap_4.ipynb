{
 "cells": [
  {
   "cell_type": "code",
   "execution_count": 2,
   "metadata": {},
   "outputs": [
    {
     "name": "stderr",
     "output_type": "stream",
     "text": [
      "C:\\Users\\james\\Anaconda3\\lib\\site-packages\\h5py\\__init__.py:36: FutureWarning: Conversion of the second argument of issubdtype from `float` to `np.floating` is deprecated. In future, it will be treated as `np.float64 == np.dtype(float).type`.\n",
      "  from ._conv import register_converters as _register_converters\n"
     ]
    }
   ],
   "source": [
    "import pymc3 as pm\n",
    "import numpy as np\n",
    "from IPython.core.pylabtools import figsize\n",
    "import matplotlib.pyplot as plt\n",
    "%matplotlib inline\n",
    "import scipy.stats as stats"
   ]
  },
  {
   "cell_type": "code",
   "execution_count": 3,
   "metadata": {},
   "outputs": [
    {
     "ename": "NameError",
     "evalue": "name 'norm_pdf' is not defined",
     "output_type": "error",
     "traceback": [
      "\u001b[1;31m---------------------------------------------------------------------------\u001b[0m",
      "\u001b[1;31mNameError\u001b[0m                                 Traceback (most recent call last)",
      "\u001b[1;32m<ipython-input-3-c3edce507db3>\u001b[0m in \u001b[0;36m<module>\u001b[1;34m()\u001b[0m\n\u001b[0;32m      1\u001b[0m \u001b[0mx\u001b[0m\u001b[1;33m=\u001b[0m \u001b[0mnp\u001b[0m\u001b[1;33m.\u001b[0m\u001b[0mlinspace\u001b[0m\u001b[1;33m(\u001b[0m\u001b[1;36m0\u001b[0m\u001b[1;33m,\u001b[0m\u001b[1;36m60000\u001b[0m\u001b[1;33m,\u001b[0m\u001b[1;36m200\u001b[0m\u001b[1;33m)\u001b[0m\u001b[1;33m\u001b[0m\u001b[0m\n\u001b[0;32m      2\u001b[0m \u001b[0mplt\u001b[0m\u001b[1;33m.\u001b[0m\u001b[0msubplot\u001b[0m\u001b[1;33m(\u001b[0m\u001b[1;36m311\u001b[0m\u001b[1;33m)\u001b[0m\u001b[1;33m\u001b[0m\u001b[0m\n\u001b[1;32m----> 3\u001b[1;33m sp1=plt.fill_between(x , 0, norm_pdf(x, 35000, 7500), \n\u001b[0m\u001b[0;32m      4\u001b[0m                 \u001b[0mcolor\u001b[0m \u001b[1;33m=\u001b[0m \u001b[1;34m\"#348ABD\"\u001b[0m\u001b[1;33m,\u001b[0m \u001b[0mlw\u001b[0m \u001b[1;33m=\u001b[0m \u001b[1;36m3\u001b[0m\u001b[1;33m,\u001b[0m \u001b[0malpha\u001b[0m \u001b[1;33m=\u001b[0m \u001b[1;36m0.6\u001b[0m\u001b[1;33m,\u001b[0m\u001b[1;33m\u001b[0m\u001b[0m\n\u001b[0;32m      5\u001b[0m                 label = \"historical total prices\")\n",
      "\u001b[1;31mNameError\u001b[0m: name 'norm_pdf' is not defined"
     ]
    },
    {
     "data": {
      "image/png": "[encoded data removed]",
      "text/plain": [
       "<Figure size 432x288 with 1 Axes>"
      ]
     },
     "metadata": {},
     "output_type": "display_data"
    }
   ],
   "source": [
    "x= np.linspace(0,60000,200)\n",
    "plt.subplot(311)\n",
    "sp1=plt.fill_between(x , 0, norm_pdf(x, 35000, 7500), \n",
    "                color = \"#348ABD\", lw = 3, alpha = 0.6,\n",
    "                label = \"historical total prices\")\n",
    "plt.legend([sp1.get_label()])\n",
    "plt.subplot(312)\n",
    "x = np.linspace(0, 10000, 200)\n",
    "sp2 = plt.fill_between(x , 0, norm_pdf(x, 3000, 500), \n",
    "                 color = \"#A60628\", lw = 3, alpha = 0.6,\n",
    "                 label=\"snowblower price guess\")\n",
    "plt.legend([sp2.get_label()])\n",
    "plt.subplot(313)\n",
    "x = np.linspace(0, 25000, 200)\n",
    "sp3 = plt.fill_between(x , 0, norm_pdf(x, 12000, 3000), \n",
    "                 color = \"#7A68A6\", lw = 3, alpha = 0.6,\n",
    "                 label = \"Trip price guess\")\n",
    "plt.legend([sp3.get_label()])"
   ]
  },
  {
   "cell_type": "code",
   "execution_count": null,
   "metadata": {},
   "outputs": [],
   "source": [
    "data_mu = [3e3, 12e3]\n",
    "data_std =  [5e2, 3e3] \n",
    "\n",
    "mu_prior = 35e3\n",
    "std_prior =  75e2\n",
    "with pm.Model() as model:\n",
    "    true_price = pm.Normal(\"true_price\", mu=mu_prior, sd=std_prior)\n",
    "    \n",
    "    prize_1 = pm.Normal(\"first_prize\", mu=data_mu[0], sd=data_std[0])\n",
    "    prize_2 = pm.Normal(\"second_prize\", mu=data_mu[1], sd=data_std[1])\n",
    "    price_estimate = prize_1 + prize_2\n",
    "    \n",
    "    logp = pm.Normal.dist(mu=price_estimate, sd=(3e3)).logp(true_price)\n",
    "    error = pm.Potential(\"error\", logp)\n",
    "    \n",
    "\n",
    "    trace = pm.sample(50000, step=pm.Metropolis())\n",
    "    burned_trace = trace[10000:]\n",
    "\n",
    "price_trace = burned_trace[\"true_price\"]"
   ]
  },
  {
   "cell_type": "code",
   "execution_count": null,
   "metadata": {},
   "outputs": [],
   "source": [
    "x = np.linspace(5000, 40000)\n",
    "plt.plot(x, stats.norm.pdf(x, 35000, 7500), c = \"k\", lw = 2, \n",
    "         label = \"prior dist. of suite price\")\n",
    "\n",
    "_hist = plt.hist(price_trace, bins = 35, normed= True, histtype= \"stepfilled\")\n",
    "plt.title(\"Posterior of the true price estimate\")\n",
    "plt.vlines(mu_prior, 0, 1.1*np.max(_hist[0]), label = \"prior's mean\",\n",
    "           linestyles=\"--\")\n",
    "plt.vlines(price_trace.mean(), 0, 1.1*np.max(_hist[0]), \\\n",
    "           label = \"posterior's mean\", linestyles=\"-.\")\n",
    "plt.legend(loc = \"upper left\");"
   ]
  },
  {
   "cell_type": "code",
   "execution_count": null,
   "metadata": {},
   "outputs": [],
   "source": [
    "def showdown_loss(guess, true_price, risk = 80000):\n",
    "        loss = np.zeros_like(true_price)\n",
    "        ix = true_price < guess\n",
    "        loss[~ix] = np.abs(guess - true_price[~ix])\n",
    "        close_mask = [abs(true_price - guess) <= 250]\n",
    "        loss[close_mask] = -2*true_price[close_mask]\n",
    "        loss[ix] = risk\n",
    "        return loss\n",
    "guesses = np.linspace(5000, 50000, 70) \n",
    "risks = np.linspace(30000, 150000, 6)\n",
    "expected_loss = lambda guess, risk: showdown_loss(guess, price_trace, risk).mean()"
   ]
  },
  {
   "cell_type": "code",
   "execution_count": null,
   "metadata": {},
   "outputs": [],
   "source": []
  },
  {
   "cell_type": "code",
   "execution_count": null,
   "metadata": {},
   "outputs": [],
   "source": []
  },
  {
   "cell_type": "code",
   "execution_count": null,
   "metadata": {},
   "outputs": [],
   "source": []
  }
 ],
 "metadata": {
  "kernelspec": {
   "display_name": "Python 3",
   "language": "python",
   "name": "python3"
  },
  "language_info": {
   "codemirror_mode": {
    "name": "ipython",
    "version": 3
   },
   "file_extension": ".py",
   "mimetype": "text/x-python",
   "name": "python",
   "nbconvert_exporter": "python",
   "pygments_lexer": "ipython3",
   "version": "3.6.5"
  }
 },
 "nbformat": 4,
 "nbformat_minor": 2
}
