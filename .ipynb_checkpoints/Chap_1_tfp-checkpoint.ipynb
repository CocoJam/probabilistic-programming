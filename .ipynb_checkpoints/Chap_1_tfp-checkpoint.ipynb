{
 "cells": [
  {
   "cell_type": "code",
   "execution_count": 1,
   "metadata": {},
   "outputs": [
    {
     "name": "stderr",
     "output_type": "stream",
     "text": [
      "C:\\Users\\james\\Anaconda3\\lib\\site-packages\\h5py\\__init__.py:36: FutureWarning: Conversion of the second argument of issubdtype from `float` to `np.floating` is deprecated. In future, it will be treated as `np.float64 == np.dtype(float).type`.\n",
      "  from ._conv import register_converters as _register_converters\n",
      "C:\\Users\\james\\Anaconda3\\lib\\importlib\\_bootstrap.py:219: ImportWarning: can't resolve package from __spec__ or __package__, falling back on __name__ and __path__\n",
      "  return f(*args, **kwds)\n",
      "C:\\Users\\james\\Anaconda3\\lib\\importlib\\_bootstrap.py:219: ImportWarning: can't resolve package from __spec__ or __package__, falling back on __name__ and __path__\n",
      "  return f(*args, **kwds)\n",
      "C:\\Users\\james\\Anaconda3\\lib\\importlib\\_bootstrap.py:219: ImportWarning: can't resolve package from __spec__ or __package__, falling back on __name__ and __path__\n",
      "  return f(*args, **kwds)\n",
      "C:\\Users\\james\\Anaconda3\\lib\\importlib\\_bootstrap.py:219: ImportWarning: can't resolve package from __spec__ or __package__, falling back on __name__ and __path__\n",
      "  return f(*args, **kwds)\n"
     ]
    }
   ],
   "source": [
    "%matplotlib inline\n",
    "import tensorflow as tf\n",
    "import tensorflow_probability as tfp\n",
    "import seaborn as sns\n",
    "import pandas as pd\n",
    "import numpy as np\n",
    "\n",
    "from matplotlib import pyplot as plt\n",
    "plt.style.use('ggplot')\n",
    "\n",
    "## Some distributions Eager modes aren't implemented yet\n",
    "# tf.enable_eager_execution()  ## I think Eager mode makes some errors\n",
    "\n",
    "# Some warnings come up related to datetime. Suppress them\n",
    "import warnings\n",
    "warnings.filterwarnings('ignore')\n",
    "\n",
    "tf.set_random_seed(42)"
   ]
  },
  {
   "cell_type": "code",
   "execution_count": 2,
   "metadata": {},
   "outputs": [
    {
     "data": {
      "text/plain": [
       "<module 'tensorflow_probability' from 'C:\\\\Users\\\\james\\\\Anaconda3\\\\lib\\\\site-packages\\\\tensorflow_probability\\\\__init__.py'>"
      ]
     },
     "execution_count": 2,
     "metadata": {},
     "output_type": "execute_result"
    }
   ],
   "source": [
    "tfp"
   ]
  },
  {
   "cell_type": "code",
   "execution_count": 3,
   "metadata": {},
   "outputs": [
    {
     "data": {
      "text/plain": [
       "Text(0.5,1,'Text counts per day')"
      ]
     },
     "execution_count": 3,
     "metadata": {},
     "output_type": "execute_result"
    },
    {
     "data": {
      "image/png": "[encoded data removed]",
      "text/plain": [
       "<Figure size 432x288 with 1 Axes>"
      ]
     },
     "metadata": {},
     "output_type": "display_data"
    }
   ],
   "source": [
    "data = pd.read_csv('data/txtdata.csv', header=None)\n",
    "data = np.squeeze(data.values).astype(np.float32)\n",
    "n_data = len(data)\n",
    "plt.bar(x=np.arange(n_data), height=data)\n",
    "plt.xlabel('Day')\n",
    "plt.ylabel('Count')\n",
    "plt.title('Text counts per day')"
   ]
  },
  {
   "cell_type": "code",
   "execution_count": 4,
   "metadata": {},
   "outputs": [],
   "source": [
    "alpha0 = float(1./data.mean())"
   ]
  },
  {
   "cell_type": "code",
   "execution_count": 5,
   "metadata": {},
   "outputs": [],
   "source": [
    "def model():\n",
    "    lambda1 = tfp.edward2.Exponential(name='lambda1', rate=alpha0)\n",
    "    lambda2 = tfp.edward2.Exponential(name='lambda2', rate=alpha0)\n",
    "\n",
    "    tau = tfp.edward2.Uniform(name='tau', low=0., high=float(n_data))\n",
    "\n",
    "    idx = np.arange(int(n_data))\n",
    "    lambda_ = tf.where(name='lambda_', condition=tau > idx, \n",
    "                       x=tf.ones(shape=[n_data], dtype=tf.float32)*lambda1, \n",
    "                       y=tf.ones(shape=[n_data], dtype=tf.float32)*lambda2)\n",
    "    \n",
    "    observed = tfp.edward2.Poisson(name='observed', rate=lambda_)\n",
    "    return observed"
   ]
  },
  {
   "cell_type": "code",
   "execution_count": 7,
   "metadata": {},
   "outputs": [],
   "source": [
    "log_joint = tfp.edward2.make_log_joint_fn(model)\n",
    "def target_log_prob_fn(lambda1, lambda2, tau):\n",
    "    return log_joint(\n",
    "        lambda1=lambda1,\n",
    "        lambda2=lambda2,\n",
    "        tau=tau,\n",
    "        observed=data)"
   ]
  },
  {
   "cell_type": "code",
   "execution_count": 8,
   "metadata": {},
   "outputs": [],
   "source": [
    "states, kernel_results = tfp.mcmc.sample_chain(\n",
    "    num_results=5000,\n",
    "    num_burnin_steps=150,\n",
    "    current_state=[\n",
    "        tfp.edward2.Exponential(name='qlambda1', rate=alpha0),\n",
    "        tfp.edward2.Exponential(name='qlambda2', rate=alpha0),\n",
    "        tfp.edward2.Uniform(name='qTau', low=0., high=float(n_data))],\n",
    "    kernel=tfp.mcmc.HamiltonianMonteCarlo(\n",
    "        target_log_prob_fn,\n",
    "        step_size=0.1,\n",
    "        num_leapfrog_steps=3))\n",
    "\n",
    "lambda1, lambda2, tau = states"
   ]
  },
  {
   "cell_type": "code",
   "execution_count": null,
   "metadata": {},
   "outputs": [],
   "source": [
    "with tf.Session() as sess:\n",
    "    sess.run(tf.global_variables_initializer())\n",
    "    lambda1_, lambda2_, tau_ = sess.run([lambda1, lambda2, tau])"
   ]
  },
  {
   "cell_type": "code",
   "execution_count": null,
   "metadata": {},
   "outputs": [],
   "source": [
    "fig, axs = plt.subplots(1,3, figsize=(15, 4))\n",
    "sns.distplot(lambda1_, ax=axs[0]); axs[0].set_title('lambda1')\n",
    "sns.distplot(lambda2_, ax=axs[1]); axs[1].set_title('lambda2')\n",
    "sns.distplot(tau_, ax=axs[2]); axs[2].set_title('tau'); axs[2].set_xlim([0,n_data])"
   ]
  },
  {
   "cell_type": "code",
   "execution_count": null,
   "metadata": {},
   "outputs": [],
   "source": []
  },
  {
   "cell_type": "code",
   "execution_count": null,
   "metadata": {},
   "outputs": [],
   "source": []
  }
 ],
 "metadata": {
  "kernelspec": {
   "display_name": "Python 3",
   "language": "python",
   "name": "python3"
  },
  "language_info": {
   "codemirror_mode": {
    "name": "ipython",
    "version": 3
   },
   "file_extension": ".py",
   "mimetype": "text/x-python",
   "name": "python",
   "nbconvert_exporter": "python",
   "pygments_lexer": "ipython3",
   "version": "3.6.5"
  }
 },
 "nbformat": 4,
 "nbformat_minor": 2
}
