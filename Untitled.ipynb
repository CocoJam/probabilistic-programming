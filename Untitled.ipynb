{
 "cells": [
  {
   "cell_type": "code",
   "execution_count": 1,
   "metadata": {},
   "outputs": [
    {
     "name": "stderr",
     "output_type": "stream",
     "text": [
      "C:\\Users\\james\\Anaconda3\\lib\\site-packages\\h5py\\__init__.py:36: FutureWarning: Conversion of the second argument of issubdtype from `float` to `np.floating` is deprecated. In future, it will be treated as `np.float64 == np.dtype(float).type`.\n",
      "  from ._conv import register_converters as _register_converters\n"
     ]
    }
   ],
   "source": [
    "%matplotlib inline\n",
    "from __future__ import absolute_import\n",
    "from __future__ import division\n",
    "from __future__ import print_function\n",
    "\n",
    "import csv\n",
    "import IPython\n",
    "import matplotlib.pyplot as plt\n",
    "import numpy as np\n",
    "import pandas as pd\n",
    "import requests\n",
    "import tensorflow as tf\n",
    "import tensorflow_probability as tfp\n",
    "import warnings\n",
    "import os\n",
    "from tensorflow_probability import edward2 as ed\n",
    "import urllib\n",
    "plt.style.use('ggplot')"
   ]
  },
  {
   "cell_type": "code",
   "execution_count": 2,
   "metadata": {},
   "outputs": [],
   "source": [
    "url_base = 'http://www.stat.columbia.edu/~gelman/arm/examples/radon/'"
   ]
  },
  {
   "cell_type": "code",
   "execution_count": 3,
   "metadata": {},
   "outputs": [],
   "source": [
    "data_set = [\"srrs2.dat\",\"cty.dat\" ]\n"
   ]
  },
  {
   "cell_type": "code",
   "execution_count": 4,
   "metadata": {},
   "outputs": [
    {
     "data": {
      "text/plain": [
       "'\\\\tmp\\\\radon'"
      ]
     },
     "execution_count": 4,
     "metadata": {},
     "output_type": "execute_result"
    }
   ],
   "source": [
    "CACHE_DIR = os.path.join(os.sep, 'tmp', 'radon')\n",
    "CACHE_DIR"
   ]
  },
  {
   "cell_type": "code",
   "execution_count": 5,
   "metadata": {},
   "outputs": [],
   "source": [
    "def download_or_cached(cached_dir,url_base ,filename):\n",
    "    filepath = os.path.join(cached_dir, filename)\n",
    "    if tf.gfile.Exists(filepath):\n",
    "        return filepath\n",
    "    if not tf.gfile.Exists(cached_dir):\n",
    "        print(\"make dir {path}\".format(path=cached_dir))\n",
    "        tf.gfile.MakeDirs(filepath)\n",
    "    url = os.path.join(url_base, filename)\n",
    "    print(\"Downloading {url} to {filepath}.\".format(url=url, filepath=filepath))\n",
    "    urllib.request.urlretrieve(url, filepath)\n",
    "    return filepath"
   ]
  },
  {
   "cell_type": "code",
   "execution_count": 6,
   "metadata": {},
   "outputs": [],
   "source": [
    "paths=list(map(lambda x:  pd.read_csv(download_or_cached(CACHE_DIR, url_base, x)), data_set))"
   ]
  },
  {
   "cell_type": "code",
   "execution_count": 7,
   "metadata": {},
   "outputs": [
    {
     "data": {
      "text/plain": [
       "[None, None]"
      ]
     },
     "execution_count": 7,
     "metadata": {},
     "output_type": "execute_result"
    }
   ],
   "source": [
    "list(map(lambda x: x.rename(columns=str.strip, inplace=True), paths))"
   ]
  },
  {
   "cell_type": "code",
   "execution_count": 15,
   "metadata": {},
   "outputs": [
    {
     "data": {
      "text/plain": [
       "array(['AZ', 'IN', 'MA', 'MN', 'MO', 'ND', 'PA', 'R5'], dtype=object)"
      ]
     },
     "execution_count": 15,
     "metadata": {},
     "output_type": "execute_result"
    }
   ],
   "source": [
    "paths[0].state.unique()"
   ]
  },
  {
   "cell_type": "code",
   "execution_count": 17,
   "metadata": {},
   "outputs": [],
   "source": [
    "def preprocess_radon_dataset(srrs2, cty, state='MN'):\n",
    "  \"\"\"Preprocess radon dataset as done in \"Bayesian Data Analysis\" book.\"\"\"\n",
    "  srrs2 = srrs2[srrs2.state==state].copy()\n",
    "  cty = cty[cty.st==state].copy()\n",
    "  \n",
    "  # We will now join datasets on Federal Information Processing Standards\n",
    "  # (FIPS) id, ie, codes that link geographic units, counties and county\n",
    "  # equivalents. http://jeffgill.org/Teaching/rpqm_9.pdf\n",
    "  srrs2['fips'] = 1000 * srrs2.stfips + srrs2.cntyfips\n",
    "  cty['fips'] = 1000 * cty.stfips + cty.ctfips\n",
    "\n",
    "  df = srrs2.merge(cty[['fips', 'Uppm']], on='fips')\n",
    "  df = df.drop_duplicates(subset='idnum')\n",
    "  df = df.rename(index=str, columns={'Uppm': 'uranium_ppm'})\n",
    "  \n",
    "  df['radon'] = df.activity.apply(lambda x: x if x > 0. else 0.1)\n",
    "  \n",
    "  # Remap categories to start from 0 and end at max(category).\n",
    "  county_name = sorted(df.county.unique())\n",
    "  df['county'] = df.county.astype(\n",
    "      pd.api.types.CategoricalDtype(categories=county_name)).cat.codes\n",
    "  county_name = map(str.strip, county_name)\n",
    "  \n",
    "  df['log_radon'] = df['radon'].apply(np.log)\n",
    "  df['log_uranium_ppm'] = df['uranium_ppm'].apply(np.log) \n",
    "  df = df[['log_radon', 'floor', 'county', 'log_uranium_ppm']]\n",
    " \n",
    "  return df, county_name"
   ]
  },
  {
   "cell_type": "code",
   "execution_count": 18,
   "metadata": {},
   "outputs": [],
   "source": [
    "df, county_name=preprocess_radon_dataset(paths[0],paths[1])"
   ]
  },
  {
   "cell_type": "code",
   "execution_count": 19,
   "metadata": {},
   "outputs": [
    {
     "data": {
      "text/html": [
       "<div>\n",
       "<style scoped>\n",
       "    .dataframe tbody tr th:only-of-type {\n",
       "        vertical-align: middle;\n",
       "    }\n",
       "\n",
       "    .dataframe tbody tr th {\n",
       "        vertical-align: top;\n",
       "    }\n",
       "\n",
       "    .dataframe thead th {\n",
       "        text-align: right;\n",
       "    }\n",
       "</style>\n",
       "<table border=\"1\" class=\"dataframe\">\n",
       "  <thead>\n",
       "    <tr style=\"text-align: right;\">\n",
       "      <th></th>\n",
       "      <th>log_radon</th>\n",
       "      <th>floor</th>\n",
       "      <th>county</th>\n",
       "      <th>log_uranium_ppm</th>\n",
       "    </tr>\n",
       "  </thead>\n",
       "  <tbody>\n",
       "    <tr>\n",
       "      <th>0</th>\n",
       "      <td>0.788457</td>\n",
       "      <td>1</td>\n",
       "      <td>0</td>\n",
       "      <td>-0.689048</td>\n",
       "    </tr>\n",
       "    <tr>\n",
       "      <th>1</th>\n",
       "      <td>0.788457</td>\n",
       "      <td>0</td>\n",
       "      <td>0</td>\n",
       "      <td>-0.689048</td>\n",
       "    </tr>\n",
       "    <tr>\n",
       "      <th>2</th>\n",
       "      <td>1.064711</td>\n",
       "      <td>0</td>\n",
       "      <td>0</td>\n",
       "      <td>-0.689048</td>\n",
       "    </tr>\n",
       "    <tr>\n",
       "      <th>3</th>\n",
       "      <td>0.000000</td>\n",
       "      <td>0</td>\n",
       "      <td>0</td>\n",
       "      <td>-0.689048</td>\n",
       "    </tr>\n",
       "    <tr>\n",
       "      <th>4</th>\n",
       "      <td>1.131402</td>\n",
       "      <td>0</td>\n",
       "      <td>1</td>\n",
       "      <td>-0.847313</td>\n",
       "    </tr>\n",
       "  </tbody>\n",
       "</table>\n",
       "</div>"
      ],
      "text/plain": [
       "   log_radon  floor  county  log_uranium_ppm\n",
       "0   0.788457      1       0        -0.689048\n",
       "1   0.788457      0       0        -0.689048\n",
       "2   1.064711      0       0        -0.689048\n",
       "3   0.000000      0       0        -0.689048\n",
       "4   1.131402      0       1        -0.847313"
      ]
     },
     "execution_count": 19,
     "metadata": {},
     "output_type": "execute_result"
    }
   ],
   "source": [
    "df.head()"
   ]
  },
  {
   "cell_type": "code",
   "execution_count": 20,
   "metadata": {},
   "outputs": [
    {
     "data": {
      "text/plain": [
       "Text(0,0.5,'Count')"
      ]
     },
     "execution_count": 20,
     "metadata": {},
     "output_type": "execute_result"
    },
    {
     "data": {
      "image/png": "[encoded data removed]",
      "text/plain": [
       "<Figure size 432x288 with 1 Axes>"
      ]
     },
     "metadata": {},
     "output_type": "display_data"
    },
    {
     "data": {
      "image/png": "[encoded data removed]",
      "text/plain": [
       "<Figure size 432x288 with 1 Axes>"
      ]
     },
     "metadata": {},
     "output_type": "display_data"
    }
   ],
   "source": [
    "df['log_radon'].plot(kind='density');\n",
    "plt.xlabel('log(radon)')\n",
    "plt.figure()\n",
    "df['floor'].value_counts().plot(kind='bar')\n",
    "plt.xlabel('Floor')\n",
    "plt.ylabel('Count')"
   ]
  },
  {
   "cell_type": "code",
   "execution_count": 21,
   "metadata": {},
   "outputs": [
    {
     "data": {
      "image/png": "[encoded data removed]",
      "text/plain": [
       "<Figure size 1584x360 with 1 Axes>"
      ]
     },
     "metadata": {},
     "output_type": "display_data"
    }
   ],
   "source": [
    "fig, ax = plt.subplots(figsize=(22, 5));\n",
    "county_freq = df['county'].value_counts()\n",
    "county_freq.plot(kind='bar');\n",
    "plt.xlabel('County Code');\n",
    "plt.ylabel('Count');"
   ]
  },
  {
   "cell_type": "code",
   "execution_count": null,
   "metadata": {},
   "outputs": [],
   "source": []
  }
 ],
 "metadata": {
  "kernelspec": {
   "display_name": "Python 3",
   "language": "python",
   "name": "python3"
  },
  "language_info": {
   "codemirror_mode": {
    "name": "ipython",
    "version": 3
   },
   "file_extension": ".py",
   "mimetype": "text/x-python",
   "name": "python",
   "nbconvert_exporter": "python",
   "pygments_lexer": "ipython3",
   "version": "3.6.5"
  }
 },
 "nbformat": 4,
 "nbformat_minor": 2
}
